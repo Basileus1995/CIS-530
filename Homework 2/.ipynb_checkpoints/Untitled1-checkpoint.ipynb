{
 "cells": [
  {
   "cell_type": "code",
   "execution_count": 1,
   "metadata": {},
   "outputs": [
    {
     "ename": "SyntaxError",
     "evalue": "invalid syntax (<ipython-input-1-9245ba635738>, line 13)",
     "output_type": "error",
     "traceback": [
      "\u001b[1;36m  File \u001b[1;32m\"<ipython-input-1-9245ba635738>\"\u001b[1;36m, line \u001b[1;32m13\u001b[0m\n\u001b[1;33m    print str(output)\u001b[0m\n\u001b[1;37m            ^\u001b[0m\n\u001b[1;31mSyntaxError\u001b[0m\u001b[1;31m:\u001b[0m invalid syntax\n"
     ]
    }
   ],
   "source": [
    "import urllib\n",
    "f = urllib.urlopen(\"https://www.vocabulary.com/lists/191545\")\n",
    "s = f.read()\n",
    "f.close()\n",
    "\n",
    "from BeautifulSoup import BeautifulStoneSoup\n",
    "soup = BeautifulStoneSoup(s)\n",
    "\n",
    "inputTag = soup.findAll(attrs={\"word\" : \"stainfo\"})\n",
    "\n",
    "output = inputTag['value']\n",
    "\n",
    "print str(output)"
   ]
  }
 ],
 "metadata": {
  "kernelspec": {
   "display_name": "Python 3",
   "language": "python",
   "name": "python3"
  },
  "language_info": {
   "codemirror_mode": {
    "name": "ipython",
    "version": 3
   },
   "file_extension": ".py",
   "mimetype": "text/x-python",
   "name": "python",
   "nbconvert_exporter": "python",
   "pygments_lexer": "ipython3",
   "version": "3.6.3"
  }
 },
 "nbformat": 4,
 "nbformat_minor": 2
}
