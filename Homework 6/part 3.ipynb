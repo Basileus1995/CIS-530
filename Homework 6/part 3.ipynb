{
 "cells": [
  {
   "cell_type": "code",
   "execution_count": 1,
   "metadata": {},
   "outputs": [
    {
     "name": "stdout",
     "output_type": "stream",
     "text": [
      "file_len = 904663\n"
     ]
    }
   ],
   "source": [
    "import unidecode\n",
    "import codecs\n",
    "import string\n",
    "import random\n",
    "import re\n",
    "\n",
    "all_characters = string.printable\n",
    "n_characters = len(all_characters)\n",
    "\n",
    "filename = './speeches.txt'\n",
    "\n",
    "file = unidecode.unidecode(codecs.open(filename, \"r\",encoding='utf-8', errors='ignore').read())\n",
    "file_len = len(file)\n",
    "print('file_len =', file_len)"
   ]
  },
  {
   "cell_type": "code",
   "execution_count": 2,
   "metadata": {},
   "outputs": [
    {
     "name": "stdout",
     "output_type": "stream",
     "text": [
      "t's a talent. It's a talent. You can't be a politician.\r\n",
      "Look, I'm fighting some very nice people. Very nice. Even though I'm leading in the polls. But they're very nice people.\r\n",
      "But they're never goin\n"
     ]
    }
   ],
   "source": [
    "chunk_len = 200\n",
    "\n",
    "def random_chunk():\n",
    "    start_index = random.randint(0, file_len - chunk_len)\n",
    "    end_index = start_index + chunk_len + 1\n",
    "    return file[start_index:end_index]\n",
    "\n",
    "print(random_chunk())"
   ]
  },
  {
   "cell_type": "code",
   "execution_count": 3,
   "metadata": {},
   "outputs": [],
   "source": [
    "import torch\n",
    "import torch.nn as nn\n",
    "from torch.autograd import Variable\n",
    "\n",
    "class RNN(nn.Module):\n",
    "    def __init__(self, input_size, hidden_size, output_size, n_layers=1):\n",
    "        super(RNN, self).__init__()\n",
    "        self.input_size = input_size\n",
    "        self.hidden_size = hidden_size\n",
    "        self.output_size = output_size\n",
    "        self.n_layers = n_layers\n",
    "        \n",
    "        self.encoder = nn.Embedding(input_size, hidden_size)\n",
    "        self.gru = nn.GRU(hidden_size, hidden_size, n_layers)\n",
    "        self.decoder = nn.Linear(hidden_size, output_size)\n",
    "    \n",
    "    def forward(self, input, hidden):\n",
    "        input = self.encoder(input.view(1, -1))\n",
    "        output, hidden = self.gru(input.view(1, 1, -1), hidden)\n",
    "        output = self.decoder(output.view(1, -1))\n",
    "        return output, hidden\n",
    "\n",
    "    def init_hidden(self):\n",
    "        return Variable(torch.zeros(self.n_layers, 1, self.hidden_size))"
   ]
  },
  {
   "cell_type": "code",
   "execution_count": 4,
   "metadata": {},
   "outputs": [
    {
     "name": "stdout",
     "output_type": "stream",
     "text": [
      "Variable containing:\n",
      " 10\n",
      " 11\n",
      " 12\n",
      " 39\n",
      " 40\n",
      " 41\n",
      "[torch.LongTensor of size 6]\n",
      "\n"
     ]
    }
   ],
   "source": [
    "# Turn string into list of longs\n",
    "def char_tensor(string):\n",
    "    tensor = torch.zeros(len(string)).long()\n",
    "    for c in range(len(string)):\n",
    "        tensor[c] = all_characters.index(string[c])\n",
    "    return Variable(tensor)\n",
    "\n",
    "print(char_tensor('abcDEF'))"
   ]
  },
  {
   "cell_type": "code",
   "execution_count": 5,
   "metadata": {},
   "outputs": [],
   "source": [
    "def random_training_set():    \n",
    "    chunk = random_chunk()\n",
    "    inp = char_tensor(chunk[:-1])\n",
    "    target = char_tensor(chunk[1:])\n",
    "    return inp, target"
   ]
  },
  {
   "cell_type": "code",
   "execution_count": 6,
   "metadata": {},
   "outputs": [],
   "source": [
    "def evaluate(prime_str='A', predict_len=100, temperature=0.8):\n",
    "    hidden = decoder.init_hidden()\n",
    "    prime_input = char_tensor(prime_str)\n",
    "    predicted = prime_str\n",
    "\n",
    "    # Use priming string to \"build up\" hidden state\n",
    "    for p in range(len(prime_str) - 1):\n",
    "        _, hidden = decoder(prime_input[p], hidden)\n",
    "    inp = prime_input[-1]\n",
    "    \n",
    "    for p in range(predict_len):\n",
    "        output, hidden = decoder(inp, hidden)\n",
    "        \n",
    "        # Sample from the network as a multinomial distribution\n",
    "        output_dist = output.data.view(-1).div(temperature).exp()\n",
    "        top_i = torch.multinomial(output_dist, 1)[0]\n",
    "        \n",
    "        # Add predicted character to string and use as next input\n",
    "        predicted_char = all_characters[top_i]\n",
    "        predicted += predicted_char\n",
    "        inp = char_tensor(predicted_char)\n",
    "\n",
    "    return predicted"
   ]
  },
  {
   "cell_type": "code",
   "execution_count": 7,
   "metadata": {},
   "outputs": [],
   "source": [
    "import time, math\n",
    "\n",
    "def time_since(since):\n",
    "    s = time.time() - since\n",
    "    m = math.floor(s / 60)\n",
    "    s -= m * 60\n",
    "    return '%dm %ds' % (m, s)"
   ]
  },
  {
   "cell_type": "code",
   "execution_count": 8,
   "metadata": {},
   "outputs": [],
   "source": [
    "\n",
    "def train(inp, target):\n",
    "    hidden = decoder.init_hidden()\n",
    "    decoder.zero_grad()\n",
    "    loss = 0\n",
    "\n",
    "    for c in range(chunk_len):\n",
    "        output, hidden = decoder(inp[c], hidden)\n",
    "        loss += criterion(output, target[c])\n",
    "\n",
    "    loss.backward()\n",
    "    decoder_optimizer.step()\n",
    "\n",
    "    return loss.data[0] / chunk_len"
   ]
  },
  {
   "cell_type": "code",
   "execution_count": 9,
   "metadata": {},
   "outputs": [
    {
     "name": "stdout",
     "output_type": "stream",
     "text": [
      "[0m 35s (100 5%) 2.2772]\n",
      "Wh, and I tom cat Thrapeme. Iu th ining the meat.\n",
      " came scyou cous tha the and knon ind andy and to v \n",
      "\n",
      "[1m 6s (200 10%) 2.0603]\n",
      "Whe thanay they doon worgh. And \"I Mand Im. I me in ou thing't beded ond the they ther of in whorte he \n",
      "\n",
      "[1m 38s (300 15%) 1.9992]\n",
      "Whe were nen a know but tomoricauth, alk and So gom Pere. And the don't ne lo besis - to resest and al \n",
      "\n",
      "[2m 9s (400 20%) 2.0526]\n",
      "Where suppen to in prestion.\n",
      "\n",
      "\n",
      "\n",
      "\n",
      "\n",
      "\n",
      "\n",
      "\n",
      "\n",
      "\n",
      "\n",
      "\n",
      "\n",
      "\n",
      "\n",
      "\n",
      "\n",
      "\n",
      "\n",
      "\n",
      "\n",
      "\n",
      "\n",
      "\n",
      "\n",
      "\n",
      "\n",
      "\n",
      "\n",
      "\n",
      "\n",
      "\n",
      "\n",
      "\n",
      "\n",
      "\n",
      " \n",
      "\n",
      "[2m 41s (500 25%) 1.6240]\n",
      "Whe waste the wellion we're sem the to bremes all not spere. You've people ast make wond what shour wi \n",
      "\n",
      "[3m 13s (600 30%) 1.8200]\n",
      "Whed hen't one tremication.\n",
      "You going to be started seaunt for. I wo me to we OU Crublemat. Doing to  \n",
      "\n",
      "[3m 44s (700 35%) 2.2032]\n",
      "What say.\n",
      "\n",
      "\n",
      "I was the don't ition make --- want Just uners.\n",
      "We like and I'll ring the take be all  \n",
      "\n",
      "[4m 16s (800 40%) 1.7693]\n",
      "Whing took they greatey out this seendors in polled love and exppoing terce and who the we'll ander we \n",
      "\n",
      "[4m 47s (900 45%) 1.8553]\n",
      "Where - miggement terrody with think nume tide you great to thoussisned thing a fortoden it said, \"I i \n",
      "\n",
      "[5m 22s (1000 50%) 1.7078]\n",
      "Whe robated in take a montry. And the Chin. We have this leave one have $2 mible. Don't taran hendlabl \n",
      "\n",
      "[5m 53s (1100 55%) 1.8784]\n",
      "Where stalloction. To get for eventer.We are do day here best attong it. I'm mene we're achive thinse  \n",
      "\n",
      "[6m 25s (1200 60%) 1.8537]\n",
      "Whers on our be some all very it people there mone Securigeth are ever a lot. I do it, good the wo lad \n",
      "\n",
      "[6m 57s (1300 65%) 2.0400]\n",
      "Whines compeans an all they a real the up my all out about the Co. So somes Someto deal I said they go \n",
      "\n",
      "[7m 29s (1400 70%) 1.9666]\n",
      "Whe neefer the states supprout in the only the statters. We have the purned they tally people people.  \n",
      "\n",
      "[8m 0s (1500 75%) 1.8448]\n",
      "Whinue in all me is going to get high stactiess and it says we cont to day. If thre never because hew  \n",
      "\n",
      "[8m 32s (1600 80%) 1.6947]\n",
      "Whe really in plave one think you sho said is forch people the the me that and we have last keisiced t \n",
      "\n",
      "[9m 4s (1700 85%) 1.7590]\n",
      "Whe mirane in I woner that.\n",
      "You'd partly uering they're going to into think is up. I want. The and I  \n",
      "\n",
      "[9m 35s (1800 90%) 1.3112]\n",
      "Which with world of they diss of they people of the was are to come out and they coups. Sthen Cant? I  \n",
      "\n",
      "[10m 7s (1900 95%) 1.4438]\n",
      "What's the going thank owater country even that to the probaors see to dight? I money, there sippous w \n",
      "\n",
      "[10m 38s (2000 100%) 1.5535]\n",
      "Whe plate Clinate of they mant a comesue in thing to all of the work -- if you sht was of fires and th \n",
      "\n"
     ]
    }
   ],
   "source": [
    "n_epochs = 2000\n",
    "print_every = 100\n",
    "plot_every = 10\n",
    "hidden_size = 100\n",
    "n_layers = 1\n",
    "lr = 0.005\n",
    "\n",
    "decoder = RNN(n_characters, hidden_size, n_characters, n_layers)\n",
    "decoder_optimizer = torch.optim.Adam(decoder.parameters(), lr=lr)\n",
    "criterion = nn.CrossEntropyLoss()\n",
    "\n",
    "start = time.time()\n",
    "all_losses = []\n",
    "loss_avg = 0\n",
    "\n",
    "for epoch in range(1, n_epochs + 1):\n",
    "    loss = train(*random_training_set())       \n",
    "    loss_avg += loss\n",
    "\n",
    "    if epoch % print_every == 0:\n",
    "        print('[%s (%d %d%%) %.4f]' % (time_since(start), epoch, epoch / n_epochs * 100, loss))\n",
    "        print(evaluate('Wh', 100), '\\n')\n",
    "\n",
    "    if epoch % plot_every == 0:\n",
    "        all_losses.append(loss_avg / plot_every)\n",
    "        loss_avg = 0"
   ]
  },
  {
   "cell_type": "code",
   "execution_count": 10,
   "metadata": {},
   "outputs": [
    {
     "data": {
      "text/plain": [
       "[<matplotlib.lines.Line2D at 0x1417139b630>]"
      ]
     },
     "execution_count": 10,
     "metadata": {},
     "output_type": "execute_result"
    },
    {
     "data": {
      "image/png": "[encoded data removed]",
      "text/plain": [
       "<matplotlib.figure.Figure at 0x141703dbd30>"
      ]
     },
     "metadata": {},
     "output_type": "display_data"
    }
   ],
   "source": [
    "import matplotlib.pyplot as plt\n",
    "import matplotlib.ticker as ticker\n",
    "%matplotlib inline\n",
    "\n",
    "plt.figure()\n",
    "plt.plot(all_losses)"
   ]
  },
  {
   "cell_type": "code",
   "execution_count": 11,
   "metadata": {},
   "outputs": [
    {
     "name": "stdout",
     "output_type": "stream",
     "text": [
      "They our because - they're back I want of build be for what one like very things.\r\n",
      "\r\n",
      "\r\n",
      "\r\n",
      "\r\n",
      "AN the sey build people And the 45%. Shot have bad Hillieve heagore, make us people you will have telled you to\n"
     ]
    }
   ],
   "source": [
    "print(evaluate('Th', 200, temperature=0.8))\n"
   ]
  },
  {
   "cell_type": "code",
   "execution_count": 12,
   "metadata": {},
   "outputs": [
    {
     "name": "stdout",
     "output_type": "stream",
     "text": [
      "They because what we're going to be come because when of the world a lot of the world the worked the way which the world the was a lot of the state of the way, when I want to be from the world they want\n"
     ]
    }
   ],
   "source": [
    "print(evaluate('Th', 200, temperature=0.2))\n"
   ]
  },
  {
   "cell_type": "code",
   "execution_count": 13,
   "metadata": {},
   "outputs": [
    {
     "name": "stdout",
     "output_type": "stream",
     "text": [
      "Thy bratit dexlaq.\r\n",
      "\r\n",
      " Lod-mer, nothing ogima faps.\r\n",
      "Andy you tupoo, biis? Da worrstanclucagns. Don't sitmisioderinglaby, the rish sep of pho Dplawklewmificil] or Reppolicy cosses.\r\n",
      "But go aniotodlist -\n"
     ]
    }
   ],
   "source": [
    "print(evaluate('Th', 200, temperature=1.4))\n"
   ]
  }
 ],
 "metadata": {
  "kernelspec": {
   "display_name": "Python 3",
   "language": "python",
   "name": "python3"
  },
  "language_info": {
   "codemirror_mode": {
    "name": "ipython",
    "version": 3
   },
   "file_extension": ".py",
   "mimetype": "text/x-python",
   "name": "python",
   "nbconvert_exporter": "python",
   "pygments_lexer": "ipython3",
   "version": "3.6.3"
  }
 },
 "nbformat": 4,
 "nbformat_minor": 2
}
